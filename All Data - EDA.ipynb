{
 "cells": [
  {
   "cell_type": "code",
   "execution_count": 35,
   "metadata": {},
   "outputs": [],
   "source": [
    "import pandas as pd\n",
    "import numpy as np\n",
    "import seaborn as sns\n",
    "import matplotlib.pyplot as plt\n",
    "import datetime as dt\n",
    "\n",
    "from abc_functions import get_data"
   ]
  },
  {
   "cell_type": "code",
   "execution_count": 2,
   "metadata": {},
   "outputs": [
    {
     "name": "stdout",
     "output_type": "stream",
     "text": [
      "Your data: sales_orders, po_info, abc_report, delivery\n",
      "Successfully loaded sales_orders!\n",
      "Successfully loaded po_info!\n",
      "Successfully loaded abc_report!\n",
      "Successfully loaded delivery!\n",
      "Done!\n"
     ]
    }
   ],
   "source": [
    "sales_orders, po_info, abc_report, delivery = get_data()"
   ]
  },
  {
   "cell_type": "code",
   "execution_count": 3,
   "metadata": {},
   "outputs": [
    {
     "data": {
      "text/html": [
       "<div>\n",
       "<style scoped>\n",
       "    .dataframe tbody tr th:only-of-type {\n",
       "        vertical-align: middle;\n",
       "    }\n",
       "\n",
       "    .dataframe tbody tr th {\n",
       "        vertical-align: top;\n",
       "    }\n",
       "\n",
       "    .dataframe thead th {\n",
       "        text-align: right;\n",
       "    }\n",
       "</style>\n",
       "<table border=\"1\" class=\"dataframe\">\n",
       "  <thead>\n",
       "    <tr style=\"text-align: right;\">\n",
       "      <th></th>\n",
       "      <th>Sales Doc.</th>\n",
       "      <th>CRD header</th>\n",
       "      <th>Created on</th>\n",
       "      <th>Customer</th>\n",
       "      <th>Purchase order no.</th>\n",
       "      <th>Item</th>\n",
       "      <th>Material</th>\n",
       "      <th>Order Quantity</th>\n",
       "      <th>Prom.Date</th>\n",
       "    </tr>\n",
       "  </thead>\n",
       "  <tbody>\n",
       "    <tr>\n",
       "      <th>0</th>\n",
       "      <td>22870642</td>\n",
       "      <td>2020-07-02</td>\n",
       "      <td>2020-06-30</td>\n",
       "      <td>1760089</td>\n",
       "      <td>9000133725</td>\n",
       "      <td>10</td>\n",
       "      <td>00000084391</td>\n",
       "      <td>35.0</td>\n",
       "      <td>2020-06-30</td>\n",
       "    </tr>\n",
       "    <tr>\n",
       "      <th>1</th>\n",
       "      <td>22870642</td>\n",
       "      <td>2020-07-02</td>\n",
       "      <td>2020-06-30</td>\n",
       "      <td>1760089</td>\n",
       "      <td>9000133725</td>\n",
       "      <td>20</td>\n",
       "      <td>01073747303</td>\n",
       "      <td>10.0</td>\n",
       "      <td>2020-06-30</td>\n",
       "    </tr>\n",
       "    <tr>\n",
       "      <th>2</th>\n",
       "      <td>22870642</td>\n",
       "      <td>2020-07-02</td>\n",
       "      <td>2020-06-30</td>\n",
       "      <td>1760089</td>\n",
       "      <td>9000133725</td>\n",
       "      <td>30</td>\n",
       "      <td>00000001046</td>\n",
       "      <td>31.0</td>\n",
       "      <td>2020-06-30</td>\n",
       "    </tr>\n",
       "    <tr>\n",
       "      <th>3</th>\n",
       "      <td>22870642</td>\n",
       "      <td>2020-07-02</td>\n",
       "      <td>2020-06-30</td>\n",
       "      <td>1760089</td>\n",
       "      <td>9000133725</td>\n",
       "      <td>40</td>\n",
       "      <td>01069215403</td>\n",
       "      <td>16.0</td>\n",
       "      <td>2020-06-30</td>\n",
       "    </tr>\n",
       "    <tr>\n",
       "      <th>4</th>\n",
       "      <td>22870642</td>\n",
       "      <td>2020-07-02</td>\n",
       "      <td>2020-06-30</td>\n",
       "      <td>1760089</td>\n",
       "      <td>9000133725</td>\n",
       "      <td>50</td>\n",
       "      <td>01173273201</td>\n",
       "      <td>10.0</td>\n",
       "      <td>2020-06-30</td>\n",
       "    </tr>\n",
       "  </tbody>\n",
       "</table>\n",
       "</div>"
      ],
      "text/plain": [
       "   Sales Doc. CRD header Created on  Customer Purchase order no.  Item  \\\n",
       "0    22870642 2020-07-02 2020-06-30   1760089         9000133725    10   \n",
       "1    22870642 2020-07-02 2020-06-30   1760089         9000133725    20   \n",
       "2    22870642 2020-07-02 2020-06-30   1760089         9000133725    30   \n",
       "3    22870642 2020-07-02 2020-06-30   1760089         9000133725    40   \n",
       "4    22870642 2020-07-02 2020-06-30   1760089         9000133725    50   \n",
       "\n",
       "      Material  Order Quantity  Prom.Date  \n",
       "0  00000084391            35.0 2020-06-30  \n",
       "1  01073747303            10.0 2020-06-30  \n",
       "2  00000001046            31.0 2020-06-30  \n",
       "3  01069215403            16.0 2020-06-30  \n",
       "4  01173273201            10.0 2020-06-30  "
      ]
     },
     "execution_count": 3,
     "metadata": {},
     "output_type": "execute_result"
    }
   ],
   "source": [
    "sales_orders.head()"
   ]
  },
  {
   "cell_type": "code",
   "execution_count": 4,
   "metadata": {},
   "outputs": [
    {
     "name": "stdout",
     "output_type": "stream",
     "text": [
      "<class 'pandas.core.frame.DataFrame'>\n",
      "Int64Index: 151909 entries, 0 to 152134\n",
      "Data columns (total 9 columns):\n",
      " #   Column              Non-Null Count   Dtype         \n",
      "---  ------              --------------   -----         \n",
      " 0   Sales Doc.          151909 non-null  int64         \n",
      " 1   CRD header          151909 non-null  datetime64[ns]\n",
      " 2   Created on          151909 non-null  datetime64[ns]\n",
      " 3   Customer            151909 non-null  int64         \n",
      " 4   Purchase order no.  151909 non-null  object        \n",
      " 5   Item                151909 non-null  int64         \n",
      " 6   Material            151909 non-null  object        \n",
      " 7   Order Quantity      151909 non-null  float64       \n",
      " 8   Prom.Date           119919 non-null  datetime64[ns]\n",
      "dtypes: datetime64[ns](3), float64(1), int64(3), object(2)\n",
      "memory usage: 11.6+ MB\n"
     ]
    }
   ],
   "source": [
    "sales_orders.info()"
   ]
  },
  {
   "cell_type": "code",
   "execution_count": 5,
   "metadata": {},
   "outputs": [
    {
     "data": {
      "text/html": [
       "<div>\n",
       "<style scoped>\n",
       "    .dataframe tbody tr th:only-of-type {\n",
       "        vertical-align: middle;\n",
       "    }\n",
       "\n",
       "    .dataframe tbody tr th {\n",
       "        vertical-align: top;\n",
       "    }\n",
       "\n",
       "    .dataframe thead th {\n",
       "        text-align: right;\n",
       "    }\n",
       "</style>\n",
       "<table border=\"1\" class=\"dataframe\">\n",
       "  <thead>\n",
       "    <tr style=\"text-align: right;\">\n",
       "      <th></th>\n",
       "      <th>Purch.Req.</th>\n",
       "      <th>Item</th>\n",
       "      <th>Material</th>\n",
       "      <th>PO Quantity</th>\n",
       "    </tr>\n",
       "  </thead>\n",
       "  <tbody>\n",
       "    <tr>\n",
       "      <th>0</th>\n",
       "      <td>61538368.0</td>\n",
       "      <td>10</td>\n",
       "      <td>00000053013</td>\n",
       "      <td>2.0</td>\n",
       "    </tr>\n",
       "    <tr>\n",
       "      <th>1</th>\n",
       "      <td>61538370.0</td>\n",
       "      <td>10</td>\n",
       "      <td>00000001766</td>\n",
       "      <td>100.0</td>\n",
       "    </tr>\n",
       "    <tr>\n",
       "      <th>2</th>\n",
       "      <td>61538370.0</td>\n",
       "      <td>20</td>\n",
       "      <td>00000053013</td>\n",
       "      <td>11.0</td>\n",
       "    </tr>\n",
       "    <tr>\n",
       "      <th>3</th>\n",
       "      <td>61538370.0</td>\n",
       "      <td>30</td>\n",
       "      <td>01123497403</td>\n",
       "      <td>108.0</td>\n",
       "    </tr>\n",
       "    <tr>\n",
       "      <th>4</th>\n",
       "      <td>61538370.0</td>\n",
       "      <td>40</td>\n",
       "      <td>01151245802</td>\n",
       "      <td>70.0</td>\n",
       "    </tr>\n",
       "  </tbody>\n",
       "</table>\n",
       "</div>"
      ],
      "text/plain": [
       "   Purch.Req.  Item     Material  PO Quantity\n",
       "0  61538368.0    10  00000053013          2.0\n",
       "1  61538370.0    10  00000001766        100.0\n",
       "2  61538370.0    20  00000053013         11.0\n",
       "3  61538370.0    30  01123497403        108.0\n",
       "4  61538370.0    40  01151245802         70.0"
      ]
     },
     "execution_count": 5,
     "metadata": {},
     "output_type": "execute_result"
    }
   ],
   "source": [
    "po_info.head()"
   ]
  },
  {
   "cell_type": "code",
   "execution_count": 6,
   "metadata": {},
   "outputs": [
    {
     "name": "stdout",
     "output_type": "stream",
     "text": [
      "<class 'pandas.core.frame.DataFrame'>\n",
      "RangeIndex: 45669 entries, 0 to 45668\n",
      "Data columns (total 4 columns):\n",
      " #   Column       Non-Null Count  Dtype  \n",
      "---  ------       --------------  -----  \n",
      " 0   Purch.Req.   41269 non-null  float64\n",
      " 1   Item         45669 non-null  int64  \n",
      " 2   Material     45669 non-null  object \n",
      " 3   PO Quantity  45669 non-null  float64\n",
      "dtypes: float64(2), int64(1), object(1)\n",
      "memory usage: 1.4+ MB\n"
     ]
    }
   ],
   "source": [
    "po_info.info()"
   ]
  },
  {
   "cell_type": "code",
   "execution_count": 7,
   "metadata": {},
   "outputs": [
    {
     "data": {
      "text/html": [
       "<div>\n",
       "<style scoped>\n",
       "    .dataframe tbody tr th:only-of-type {\n",
       "        vertical-align: middle;\n",
       "    }\n",
       "\n",
       "    .dataframe tbody tr th {\n",
       "        vertical-align: top;\n",
       "    }\n",
       "\n",
       "    .dataframe thead th {\n",
       "        text-align: right;\n",
       "    }\n",
       "</style>\n",
       "<table border=\"1\" class=\"dataframe\">\n",
       "  <thead>\n",
       "    <tr style=\"text-align: right;\">\n",
       "      <th></th>\n",
       "      <th>Material</th>\n",
       "      <th>Safety Stock</th>\n",
       "      <th>ABC</th>\n",
       "    </tr>\n",
       "  </thead>\n",
       "  <tbody>\n",
       "    <tr>\n",
       "      <th>0</th>\n",
       "      <td>00000283113</td>\n",
       "      <td>7</td>\n",
       "      <td>C</td>\n",
       "    </tr>\n",
       "    <tr>\n",
       "      <th>1</th>\n",
       "      <td>00000245917</td>\n",
       "      <td>4</td>\n",
       "      <td>C</td>\n",
       "    </tr>\n",
       "    <tr>\n",
       "      <th>2</th>\n",
       "      <td>00000259126</td>\n",
       "      <td>119</td>\n",
       "      <td>C</td>\n",
       "    </tr>\n",
       "    <tr>\n",
       "      <th>3</th>\n",
       "      <td>00000219743</td>\n",
       "      <td>1</td>\n",
       "      <td>C</td>\n",
       "    </tr>\n",
       "    <tr>\n",
       "      <th>4</th>\n",
       "      <td>00000224683</td>\n",
       "      <td>10</td>\n",
       "      <td>C</td>\n",
       "    </tr>\n",
       "  </tbody>\n",
       "</table>\n",
       "</div>"
      ],
      "text/plain": [
       "      Material  Safety Stock ABC\n",
       "0  00000283113             7   C\n",
       "1  00000245917             4   C\n",
       "2  00000259126           119   C\n",
       "3  00000219743             1   C\n",
       "4  00000224683            10   C"
      ]
     },
     "execution_count": 7,
     "metadata": {},
     "output_type": "execute_result"
    }
   ],
   "source": [
    "abc_report.head()"
   ]
  },
  {
   "cell_type": "code",
   "execution_count": 8,
   "metadata": {},
   "outputs": [
    {
     "name": "stdout",
     "output_type": "stream",
     "text": [
      "<class 'pandas.core.frame.DataFrame'>\n",
      "RangeIndex: 1983 entries, 0 to 1982\n",
      "Data columns (total 3 columns):\n",
      " #   Column        Non-Null Count  Dtype \n",
      "---  ------        --------------  ----- \n",
      " 0   Material      1983 non-null   object\n",
      " 1   Safety Stock  1983 non-null   int64 \n",
      " 2   ABC           1983 non-null   object\n",
      "dtypes: int64(1), object(2)\n",
      "memory usage: 46.6+ KB\n"
     ]
    }
   ],
   "source": [
    "abc_report.info()"
   ]
  },
  {
   "cell_type": "code",
   "execution_count": 9,
   "metadata": {},
   "outputs": [
    {
     "data": {
      "text/html": [
       "<div>\n",
       "<style scoped>\n",
       "    .dataframe tbody tr th:only-of-type {\n",
       "        vertical-align: middle;\n",
       "    }\n",
       "\n",
       "    .dataframe tbody tr th {\n",
       "        vertical-align: top;\n",
       "    }\n",
       "\n",
       "    .dataframe thead th {\n",
       "        text-align: right;\n",
       "    }\n",
       "</style>\n",
       "<table border=\"1\" class=\"dataframe\">\n",
       "  <thead>\n",
       "    <tr style=\"text-align: right;\">\n",
       "      <th></th>\n",
       "      <th>Ref.doc.</th>\n",
       "      <th>Delivery</th>\n",
       "      <th>RefItm</th>\n",
       "      <th>Ac.GI date</th>\n",
       "      <th>Delivery quantity</th>\n",
       "    </tr>\n",
       "  </thead>\n",
       "  <tbody>\n",
       "    <tr>\n",
       "      <th>0</th>\n",
       "      <td>22737649</td>\n",
       "      <td>28172414</td>\n",
       "      <td>10</td>\n",
       "      <td>2019-01-17</td>\n",
       "      <td>1.0</td>\n",
       "    </tr>\n",
       "    <tr>\n",
       "      <th>1</th>\n",
       "      <td>22736857</td>\n",
       "      <td>28173870</td>\n",
       "      <td>40</td>\n",
       "      <td>2019-01-18</td>\n",
       "      <td>9.0</td>\n",
       "    </tr>\n",
       "    <tr>\n",
       "      <th>2</th>\n",
       "      <td>22734775</td>\n",
       "      <td>28168597</td>\n",
       "      <td>10</td>\n",
       "      <td>2019-01-04</td>\n",
       "      <td>1.0</td>\n",
       "    </tr>\n",
       "    <tr>\n",
       "      <th>3</th>\n",
       "      <td>22734775</td>\n",
       "      <td>28168597</td>\n",
       "      <td>30</td>\n",
       "      <td>2019-01-04</td>\n",
       "      <td>2.0</td>\n",
       "    </tr>\n",
       "    <tr>\n",
       "      <th>4</th>\n",
       "      <td>22734775</td>\n",
       "      <td>28168597</td>\n",
       "      <td>50</td>\n",
       "      <td>2019-01-04</td>\n",
       "      <td>5.0</td>\n",
       "    </tr>\n",
       "  </tbody>\n",
       "</table>\n",
       "</div>"
      ],
      "text/plain": [
       "   Ref.doc.  Delivery  RefItm Ac.GI date  Delivery quantity\n",
       "0  22737649  28172414      10 2019-01-17                1.0\n",
       "1  22736857  28173870      40 2019-01-18                9.0\n",
       "2  22734775  28168597      10 2019-01-04                1.0\n",
       "3  22734775  28168597      30 2019-01-04                2.0\n",
       "4  22734775  28168597      50 2019-01-04                5.0"
      ]
     },
     "execution_count": 9,
     "metadata": {},
     "output_type": "execute_result"
    }
   ],
   "source": [
    "delivery.head()"
   ]
  },
  {
   "cell_type": "code",
   "execution_count": 10,
   "metadata": {},
   "outputs": [
    {
     "name": "stdout",
     "output_type": "stream",
     "text": [
      "<class 'pandas.core.frame.DataFrame'>\n",
      "Int64Index: 144768 entries, 0 to 38995\n",
      "Data columns (total 5 columns):\n",
      " #   Column             Non-Null Count   Dtype         \n",
      "---  ------             --------------   -----         \n",
      " 0   Ref.doc.           144768 non-null  int64         \n",
      " 1   Delivery           144768 non-null  int64         \n",
      " 2   RefItm             144768 non-null  int64         \n",
      " 3   Ac.GI date         144753 non-null  datetime64[ns]\n",
      " 4   Delivery quantity  144768 non-null  float64       \n",
      "dtypes: datetime64[ns](1), float64(1), int64(3)\n",
      "memory usage: 6.6 MB\n"
     ]
    }
   ],
   "source": [
    "delivery.info()"
   ]
  },
  {
   "cell_type": "code",
   "execution_count": 11,
   "metadata": {},
   "outputs": [
    {
     "data": {
      "text/html": [
       "<div>\n",
       "<style scoped>\n",
       "    .dataframe tbody tr th:only-of-type {\n",
       "        vertical-align: middle;\n",
       "    }\n",
       "\n",
       "    .dataframe tbody tr th {\n",
       "        vertical-align: top;\n",
       "    }\n",
       "\n",
       "    .dataframe thead th {\n",
       "        text-align: right;\n",
       "    }\n",
       "</style>\n",
       "<table border=\"1\" class=\"dataframe\">\n",
       "  <thead>\n",
       "    <tr style=\"text-align: right;\">\n",
       "      <th></th>\n",
       "      <th>Sales Doc.</th>\n",
       "      <th>CRD header</th>\n",
       "      <th>Created on</th>\n",
       "      <th>Customer</th>\n",
       "      <th>Purchase order no.</th>\n",
       "      <th>Item</th>\n",
       "      <th>Material</th>\n",
       "      <th>Order Quantity</th>\n",
       "      <th>Prom.Date</th>\n",
       "    </tr>\n",
       "  </thead>\n",
       "  <tbody>\n",
       "    <tr>\n",
       "      <th>53699</th>\n",
       "      <td>22736857</td>\n",
       "      <td>2019-02-15</td>\n",
       "      <td>2019-01-11</td>\n",
       "      <td>1786149</td>\n",
       "      <td>9000063183</td>\n",
       "      <td>30</td>\n",
       "      <td>01114732904</td>\n",
       "      <td>28.0</td>\n",
       "      <td>2019-01-11</td>\n",
       "    </tr>\n",
       "    <tr>\n",
       "      <th>53700</th>\n",
       "      <td>22736857</td>\n",
       "      <td>2019-02-15</td>\n",
       "      <td>2019-01-11</td>\n",
       "      <td>1786149</td>\n",
       "      <td>9000063183</td>\n",
       "      <td>40</td>\n",
       "      <td>01072746903</td>\n",
       "      <td>21.0</td>\n",
       "      <td>2019-01-23</td>\n",
       "    </tr>\n",
       "    <tr>\n",
       "      <th>53701</th>\n",
       "      <td>22736857</td>\n",
       "      <td>2019-02-15</td>\n",
       "      <td>2019-01-11</td>\n",
       "      <td>1786149</td>\n",
       "      <td>9000063183</td>\n",
       "      <td>50</td>\n",
       "      <td>01069653808</td>\n",
       "      <td>2.0</td>\n",
       "      <td>2019-01-11</td>\n",
       "    </tr>\n",
       "  </tbody>\n",
       "</table>\n",
       "</div>"
      ],
      "text/plain": [
       "       Sales Doc. CRD header Created on  Customer Purchase order no.  Item  \\\n",
       "53699    22736857 2019-02-15 2019-01-11   1786149         9000063183    30   \n",
       "53700    22736857 2019-02-15 2019-01-11   1786149         9000063183    40   \n",
       "53701    22736857 2019-02-15 2019-01-11   1786149         9000063183    50   \n",
       "\n",
       "          Material  Order Quantity  Prom.Date  \n",
       "53699  01114732904            28.0 2019-01-11  \n",
       "53700  01072746903            21.0 2019-01-23  \n",
       "53701  01069653808             2.0 2019-01-11  "
      ]
     },
     "execution_count": 11,
     "metadata": {},
     "output_type": "execute_result"
    }
   ],
   "source": [
    "sales_orders[sales_orders['Sales Doc.']==22736857]"
   ]
  },
  {
   "cell_type": "code",
   "execution_count": 12,
   "metadata": {},
   "outputs": [],
   "source": [
    "sales_deliveries = sales_orders.merge(delivery, left_on=['Sales Doc.', 'Item'], right_on=['Ref.doc.', 'RefItm'], how='inner')"
   ]
  },
  {
   "cell_type": "code",
   "execution_count": 13,
   "metadata": {},
   "outputs": [
    {
     "data": {
      "text/plain": [
       "141115"
      ]
     },
     "execution_count": 13,
     "metadata": {},
     "output_type": "execute_result"
    }
   ],
   "source": [
    "len(sales_deliveries)"
   ]
  },
  {
   "cell_type": "code",
   "execution_count": 14,
   "metadata": {},
   "outputs": [],
   "source": [
    "sales_and_deliveries=sales_deliveries.merge(abc_report, on='Material', how='inner')"
   ]
  },
  {
   "cell_type": "code",
   "execution_count": 15,
   "metadata": {},
   "outputs": [],
   "source": [
    "# sales_and_deliveries.to_csv(\"sales_and_deliveries.csv\", index=False)\n",
    "# sales_and_deliveries.to_excel(\"sales_and_deliveries.xlsx\", index=False)"
   ]
  },
  {
   "cell_type": "code",
   "execution_count": 16,
   "metadata": {},
   "outputs": [],
   "source": [
    "# abc_po=po_info.merge(abc_report, on='Material', how='inner')"
   ]
  },
  {
   "cell_type": "code",
   "execution_count": 17,
   "metadata": {},
   "outputs": [],
   "source": [
    "# abc_po.to_csv(\"abc_po.csv\", index=False)\n",
    "# abc_po.to_excel(\"abc_po.xlsx\", index=False)"
   ]
  },
  {
   "cell_type": "code",
   "execution_count": null,
   "metadata": {},
   "outputs": [],
   "source": []
  },
  {
   "cell_type": "code",
   "execution_count": 18,
   "metadata": {},
   "outputs": [
    {
     "name": "stdout",
     "output_type": "stream",
     "text": [
      "<class 'pandas.core.frame.DataFrame'>\n",
      "Int64Index: 141115 entries, 0 to 141114\n",
      "Data columns (total 16 columns):\n",
      " #   Column              Non-Null Count   Dtype         \n",
      "---  ------              --------------   -----         \n",
      " 0   Sales Doc.          141115 non-null  int64         \n",
      " 1   CRD header          141115 non-null  datetime64[ns]\n",
      " 2   Created on          141115 non-null  datetime64[ns]\n",
      " 3   Customer            141115 non-null  int64         \n",
      " 4   Purchase order no.  141115 non-null  object        \n",
      " 5   Item                141115 non-null  int64         \n",
      " 6   Material            141115 non-null  object        \n",
      " 7   Order Quantity      141115 non-null  float64       \n",
      " 8   Prom.Date           112351 non-null  datetime64[ns]\n",
      " 9   Ref.doc.            141115 non-null  int64         \n",
      " 10  Delivery            141115 non-null  int64         \n",
      " 11  RefItm              141115 non-null  int64         \n",
      " 12  Ac.GI date          141105 non-null  datetime64[ns]\n",
      " 13  Delivery quantity   141115 non-null  float64       \n",
      " 14  Safety Stock        141115 non-null  int64         \n",
      " 15  ABC                 141115 non-null  object        \n",
      "dtypes: datetime64[ns](4), float64(2), int64(7), object(3)\n",
      "memory usage: 18.3+ MB\n"
     ]
    }
   ],
   "source": [
    "sales_and_deliveries.info()"
   ]
  },
  {
   "cell_type": "code",
   "execution_count": 19,
   "metadata": {},
   "outputs": [
    {
     "data": {
      "text/html": [
       "<div>\n",
       "<style scoped>\n",
       "    .dataframe tbody tr th:only-of-type {\n",
       "        vertical-align: middle;\n",
       "    }\n",
       "\n",
       "    .dataframe tbody tr th {\n",
       "        vertical-align: top;\n",
       "    }\n",
       "\n",
       "    .dataframe thead th {\n",
       "        text-align: right;\n",
       "    }\n",
       "</style>\n",
       "<table border=\"1\" class=\"dataframe\">\n",
       "  <thead>\n",
       "    <tr style=\"text-align: right;\">\n",
       "      <th></th>\n",
       "      <th>Sales Doc.</th>\n",
       "      <th>CRD header</th>\n",
       "      <th>Created on</th>\n",
       "      <th>Customer</th>\n",
       "      <th>Purchase order no.</th>\n",
       "      <th>Item</th>\n",
       "      <th>Material</th>\n",
       "      <th>Order Quantity</th>\n",
       "      <th>Prom.Date</th>\n",
       "      <th>Ref.doc.</th>\n",
       "      <th>Delivery</th>\n",
       "      <th>RefItm</th>\n",
       "      <th>Ac.GI date</th>\n",
       "      <th>Delivery quantity</th>\n",
       "      <th>Safety Stock</th>\n",
       "      <th>ABC</th>\n",
       "    </tr>\n",
       "  </thead>\n",
       "  <tbody>\n",
       "    <tr>\n",
       "      <th>0</th>\n",
       "      <td>22870642</td>\n",
       "      <td>2020-07-02</td>\n",
       "      <td>2020-06-30</td>\n",
       "      <td>1760089</td>\n",
       "      <td>9000133725</td>\n",
       "      <td>10</td>\n",
       "      <td>00000084391</td>\n",
       "      <td>35.0</td>\n",
       "      <td>2020-06-30</td>\n",
       "      <td>22870642</td>\n",
       "      <td>28376906</td>\n",
       "      <td>10</td>\n",
       "      <td>2020-07-01</td>\n",
       "      <td>35.0</td>\n",
       "      <td>33</td>\n",
       "      <td>B</td>\n",
       "    </tr>\n",
       "    <tr>\n",
       "      <th>1</th>\n",
       "      <td>22864957</td>\n",
       "      <td>2020-07-13</td>\n",
       "      <td>2020-06-05</td>\n",
       "      <td>1761695</td>\n",
       "      <td>10408</td>\n",
       "      <td>10</td>\n",
       "      <td>00000084391</td>\n",
       "      <td>3.0</td>\n",
       "      <td>2020-06-05</td>\n",
       "      <td>22864957</td>\n",
       "      <td>28368273</td>\n",
       "      <td>10</td>\n",
       "      <td>2020-06-08</td>\n",
       "      <td>3.0</td>\n",
       "      <td>33</td>\n",
       "      <td>B</td>\n",
       "    </tr>\n",
       "    <tr>\n",
       "      <th>2</th>\n",
       "      <td>22862781</td>\n",
       "      <td>2020-06-30</td>\n",
       "      <td>2020-05-27</td>\n",
       "      <td>1761265</td>\n",
       "      <td>wqf38497</td>\n",
       "      <td>50</td>\n",
       "      <td>00000084391</td>\n",
       "      <td>2.0</td>\n",
       "      <td>2020-05-27</td>\n",
       "      <td>22862781</td>\n",
       "      <td>28364930</td>\n",
       "      <td>50</td>\n",
       "      <td>2020-05-28</td>\n",
       "      <td>2.0</td>\n",
       "      <td>33</td>\n",
       "      <td>B</td>\n",
       "    </tr>\n",
       "    <tr>\n",
       "      <th>3</th>\n",
       "      <td>22848805</td>\n",
       "      <td>2020-06-01</td>\n",
       "      <td>2020-03-27</td>\n",
       "      <td>1769212</td>\n",
       "      <td>5290-MD</td>\n",
       "      <td>1490</td>\n",
       "      <td>00000084391</td>\n",
       "      <td>1.0</td>\n",
       "      <td>2020-03-27</td>\n",
       "      <td>22848805</td>\n",
       "      <td>28364289</td>\n",
       "      <td>1490</td>\n",
       "      <td>2020-05-29</td>\n",
       "      <td>1.0</td>\n",
       "      <td>33</td>\n",
       "      <td>B</td>\n",
       "    </tr>\n",
       "    <tr>\n",
       "      <th>4</th>\n",
       "      <td>22879606</td>\n",
       "      <td>2020-09-09</td>\n",
       "      <td>2020-08-04</td>\n",
       "      <td>1753005</td>\n",
       "      <td>4501709695</td>\n",
       "      <td>10</td>\n",
       "      <td>00000084391</td>\n",
       "      <td>1.0</td>\n",
       "      <td>2020-08-04</td>\n",
       "      <td>22879606</td>\n",
       "      <td>28389506</td>\n",
       "      <td>10</td>\n",
       "      <td>2020-08-12</td>\n",
       "      <td>1.0</td>\n",
       "      <td>33</td>\n",
       "      <td>B</td>\n",
       "    </tr>\n",
       "  </tbody>\n",
       "</table>\n",
       "</div>"
      ],
      "text/plain": [
       "   Sales Doc. CRD header Created on  Customer Purchase order no.  Item  \\\n",
       "0    22870642 2020-07-02 2020-06-30   1760089         9000133725    10   \n",
       "1    22864957 2020-07-13 2020-06-05   1761695              10408    10   \n",
       "2    22862781 2020-06-30 2020-05-27   1761265           wqf38497    50   \n",
       "3    22848805 2020-06-01 2020-03-27   1769212            5290-MD  1490   \n",
       "4    22879606 2020-09-09 2020-08-04   1753005         4501709695    10   \n",
       "\n",
       "      Material  Order Quantity  Prom.Date  Ref.doc.  Delivery  RefItm  \\\n",
       "0  00000084391            35.0 2020-06-30  22870642  28376906      10   \n",
       "1  00000084391             3.0 2020-06-05  22864957  28368273      10   \n",
       "2  00000084391             2.0 2020-05-27  22862781  28364930      50   \n",
       "3  00000084391             1.0 2020-03-27  22848805  28364289    1490   \n",
       "4  00000084391             1.0 2020-08-04  22879606  28389506      10   \n",
       "\n",
       "  Ac.GI date  Delivery quantity  Safety Stock ABC  \n",
       "0 2020-07-01               35.0            33   B  \n",
       "1 2020-06-08                3.0            33   B  \n",
       "2 2020-05-28                2.0            33   B  \n",
       "3 2020-05-29                1.0            33   B  \n",
       "4 2020-08-12                1.0            33   B  "
      ]
     },
     "execution_count": 19,
     "metadata": {},
     "output_type": "execute_result"
    }
   ],
   "source": [
    "sales_and_deliveries.head()"
   ]
  },
  {
   "cell_type": "code",
   "execution_count": 20,
   "metadata": {},
   "outputs": [],
   "source": [
    "sales_and_deliveries['days_between']=sales_and_deliveries['Ac.GI date'] - sales_and_deliveries['Created on']"
   ]
  },
  {
   "cell_type": "code",
   "execution_count": 21,
   "metadata": {},
   "outputs": [],
   "source": [
    "sales_and_deliveries['days_between']=sales_and_deliveries['days_between'].apply(lambda x: x.days)"
   ]
  },
  {
   "cell_type": "code",
   "execution_count": 22,
   "metadata": {},
   "outputs": [
    {
     "data": {
      "text/html": [
       "<div>\n",
       "<style scoped>\n",
       "    .dataframe tbody tr th:only-of-type {\n",
       "        vertical-align: middle;\n",
       "    }\n",
       "\n",
       "    .dataframe tbody tr th {\n",
       "        vertical-align: top;\n",
       "    }\n",
       "\n",
       "    .dataframe thead th {\n",
       "        text-align: right;\n",
       "    }\n",
       "</style>\n",
       "<table border=\"1\" class=\"dataframe\">\n",
       "  <thead>\n",
       "    <tr style=\"text-align: right;\">\n",
       "      <th></th>\n",
       "      <th>days_between</th>\n",
       "    </tr>\n",
       "  </thead>\n",
       "  <tbody>\n",
       "    <tr>\n",
       "      <th>count</th>\n",
       "      <td>141105.000000</td>\n",
       "    </tr>\n",
       "    <tr>\n",
       "      <th>mean</th>\n",
       "      <td>16.467864</td>\n",
       "    </tr>\n",
       "    <tr>\n",
       "      <th>std</th>\n",
       "      <td>25.186323</td>\n",
       "    </tr>\n",
       "    <tr>\n",
       "      <th>min</th>\n",
       "      <td>-1.000000</td>\n",
       "    </tr>\n",
       "    <tr>\n",
       "      <th>25%</th>\n",
       "      <td>1.000000</td>\n",
       "    </tr>\n",
       "    <tr>\n",
       "      <th>50%</th>\n",
       "      <td>6.000000</td>\n",
       "    </tr>\n",
       "    <tr>\n",
       "      <th>75%</th>\n",
       "      <td>20.000000</td>\n",
       "    </tr>\n",
       "    <tr>\n",
       "      <th>max</th>\n",
       "      <td>451.000000</td>\n",
       "    </tr>\n",
       "  </tbody>\n",
       "</table>\n",
       "</div>"
      ],
      "text/plain": [
       "        days_between\n",
       "count  141105.000000\n",
       "mean       16.467864\n",
       "std        25.186323\n",
       "min        -1.000000\n",
       "25%         1.000000\n",
       "50%         6.000000\n",
       "75%        20.000000\n",
       "max       451.000000"
      ]
     },
     "execution_count": 22,
     "metadata": {},
     "output_type": "execute_result"
    }
   ],
   "source": [
    "pd.DataFrame(sales_and_deliveries['days_between'].describe())"
   ]
  },
  {
   "cell_type": "code",
   "execution_count": 23,
   "metadata": {},
   "outputs": [
    {
     "data": {
      "text/plain": [
       "Text(0.5, 1.0, 'Days Between Order Date and Shipment Date')"
      ]
     },
     "execution_count": 23,
     "metadata": {},
     "output_type": "execute_result"
    },
    {
     "data": {
      "image/png": "[encoded data removed]",
      "text/plain": [
       "<Figure size 1080x576 with 1 Axes>"
      ]
     },
     "metadata": {
      "needs_background": "light"
     },
     "output_type": "display_data"
    }
   ],
   "source": [
    "plt.subplots(figsize=(15,8))\n",
    "sns.boxplot(x='days_between', y='ABC',data=sales_and_deliveries, order=['A', 'B', 'C'])\n",
    "plt.xlabel('Days')\n",
    "plt.title('Days Between Order Date and Shipment Date')"
   ]
  },
  {
   "cell_type": "code",
   "execution_count": 25,
   "metadata": {},
   "outputs": [],
   "source": [
    "sales_and_deliveries['days_bw_prom_ac']=sales_and_deliveries['Ac.GI date'] - sales_and_deliveries['Prom.Date']\n",
    "sales_and_deliveries['days_bw_prom_ac'] = sales_and_deliveries['days_bw_prom_ac'].apply(lambda x : x.days)"
   ]
  },
  {
   "cell_type": "code",
   "execution_count": 26,
   "metadata": {},
   "outputs": [
    {
     "data": {
      "text/plain": [
       "Text(0.5, 1.0, 'Days Between Promise Date and Shipment Date')"
      ]
     },
     "execution_count": 26,
     "metadata": {},
     "output_type": "execute_result"
    },
    {
     "data": {
      "image/png": "[encoded data removed]",
      "text/plain": [
       "<Figure size 1080x576 with 1 Axes>"
      ]
     },
     "metadata": {
      "needs_background": "light"
     },
     "output_type": "display_data"
    }
   ],
   "source": [
    "plt.subplots(figsize=(15,8))\n",
    "sns.boxplot(x='days_bw_prom_ac', y='ABC',data=sales_and_deliveries, order=['A', 'B', 'C'])\n",
    "plt.xlabel('Days')\n",
    "plt.title('Days Between Promise Date and Shipment Date')"
   ]
  },
  {
   "cell_type": "code",
   "execution_count": 28,
   "metadata": {},
   "outputs": [
    {
     "data": {
      "text/html": [
       "<div>\n",
       "<style scoped>\n",
       "    .dataframe tbody tr th:only-of-type {\n",
       "        vertical-align: middle;\n",
       "    }\n",
       "\n",
       "    .dataframe tbody tr th {\n",
       "        vertical-align: top;\n",
       "    }\n",
       "\n",
       "    .dataframe thead th {\n",
       "        text-align: right;\n",
       "    }\n",
       "</style>\n",
       "<table border=\"1\" class=\"dataframe\">\n",
       "  <thead>\n",
       "    <tr style=\"text-align: right;\">\n",
       "      <th></th>\n",
       "      <th>Sales Doc.</th>\n",
       "      <th>CRD header</th>\n",
       "      <th>Created on</th>\n",
       "      <th>Customer</th>\n",
       "      <th>Purchase order no.</th>\n",
       "      <th>Item</th>\n",
       "      <th>Material</th>\n",
       "      <th>Order Quantity</th>\n",
       "      <th>Prom.Date</th>\n",
       "      <th>Ref.doc.</th>\n",
       "      <th>Delivery</th>\n",
       "      <th>RefItm</th>\n",
       "      <th>Ac.GI date</th>\n",
       "      <th>Delivery quantity</th>\n",
       "      <th>Safety Stock</th>\n",
       "      <th>ABC</th>\n",
       "      <th>days_between</th>\n",
       "      <th>days_bw_prom_ac</th>\n",
       "    </tr>\n",
       "  </thead>\n",
       "  <tbody>\n",
       "    <tr>\n",
       "      <th>0</th>\n",
       "      <td>22870642</td>\n",
       "      <td>2020-07-02</td>\n",
       "      <td>2020-06-30</td>\n",
       "      <td>1760089</td>\n",
       "      <td>9000133725</td>\n",
       "      <td>10</td>\n",
       "      <td>00000084391</td>\n",
       "      <td>35.0</td>\n",
       "      <td>2020-06-30</td>\n",
       "      <td>22870642</td>\n",
       "      <td>28376906</td>\n",
       "      <td>10</td>\n",
       "      <td>2020-07-01</td>\n",
       "      <td>35.0</td>\n",
       "      <td>33</td>\n",
       "      <td>B</td>\n",
       "      <td>1.0</td>\n",
       "      <td>1.0</td>\n",
       "    </tr>\n",
       "    <tr>\n",
       "      <th>1</th>\n",
       "      <td>22864957</td>\n",
       "      <td>2020-07-13</td>\n",
       "      <td>2020-06-05</td>\n",
       "      <td>1761695</td>\n",
       "      <td>10408</td>\n",
       "      <td>10</td>\n",
       "      <td>00000084391</td>\n",
       "      <td>3.0</td>\n",
       "      <td>2020-06-05</td>\n",
       "      <td>22864957</td>\n",
       "      <td>28368273</td>\n",
       "      <td>10</td>\n",
       "      <td>2020-06-08</td>\n",
       "      <td>3.0</td>\n",
       "      <td>33</td>\n",
       "      <td>B</td>\n",
       "      <td>3.0</td>\n",
       "      <td>3.0</td>\n",
       "    </tr>\n",
       "    <tr>\n",
       "      <th>2</th>\n",
       "      <td>22862781</td>\n",
       "      <td>2020-06-30</td>\n",
       "      <td>2020-05-27</td>\n",
       "      <td>1761265</td>\n",
       "      <td>wqf38497</td>\n",
       "      <td>50</td>\n",
       "      <td>00000084391</td>\n",
       "      <td>2.0</td>\n",
       "      <td>2020-05-27</td>\n",
       "      <td>22862781</td>\n",
       "      <td>28364930</td>\n",
       "      <td>50</td>\n",
       "      <td>2020-05-28</td>\n",
       "      <td>2.0</td>\n",
       "      <td>33</td>\n",
       "      <td>B</td>\n",
       "      <td>1.0</td>\n",
       "      <td>1.0</td>\n",
       "    </tr>\n",
       "    <tr>\n",
       "      <th>3</th>\n",
       "      <td>22848805</td>\n",
       "      <td>2020-06-01</td>\n",
       "      <td>2020-03-27</td>\n",
       "      <td>1769212</td>\n",
       "      <td>5290-MD</td>\n",
       "      <td>1490</td>\n",
       "      <td>00000084391</td>\n",
       "      <td>1.0</td>\n",
       "      <td>2020-03-27</td>\n",
       "      <td>22848805</td>\n",
       "      <td>28364289</td>\n",
       "      <td>1490</td>\n",
       "      <td>2020-05-29</td>\n",
       "      <td>1.0</td>\n",
       "      <td>33</td>\n",
       "      <td>B</td>\n",
       "      <td>63.0</td>\n",
       "      <td>63.0</td>\n",
       "    </tr>\n",
       "    <tr>\n",
       "      <th>4</th>\n",
       "      <td>22879606</td>\n",
       "      <td>2020-09-09</td>\n",
       "      <td>2020-08-04</td>\n",
       "      <td>1753005</td>\n",
       "      <td>4501709695</td>\n",
       "      <td>10</td>\n",
       "      <td>00000084391</td>\n",
       "      <td>1.0</td>\n",
       "      <td>2020-08-04</td>\n",
       "      <td>22879606</td>\n",
       "      <td>28389506</td>\n",
       "      <td>10</td>\n",
       "      <td>2020-08-12</td>\n",
       "      <td>1.0</td>\n",
       "      <td>33</td>\n",
       "      <td>B</td>\n",
       "      <td>8.0</td>\n",
       "      <td>8.0</td>\n",
       "    </tr>\n",
       "    <tr>\n",
       "      <th>...</th>\n",
       "      <td>...</td>\n",
       "      <td>...</td>\n",
       "      <td>...</td>\n",
       "      <td>...</td>\n",
       "      <td>...</td>\n",
       "      <td>...</td>\n",
       "      <td>...</td>\n",
       "      <td>...</td>\n",
       "      <td>...</td>\n",
       "      <td>...</td>\n",
       "      <td>...</td>\n",
       "      <td>...</td>\n",
       "      <td>...</td>\n",
       "      <td>...</td>\n",
       "      <td>...</td>\n",
       "      <td>...</td>\n",
       "      <td>...</td>\n",
       "      <td>...</td>\n",
       "    </tr>\n",
       "    <tr>\n",
       "      <th>141110</th>\n",
       "      <td>221030593</td>\n",
       "      <td>2022-01-24</td>\n",
       "      <td>2021-11-30</td>\n",
       "      <td>1803257</td>\n",
       "      <td>759278</td>\n",
       "      <td>3980</td>\n",
       "      <td>04253802208</td>\n",
       "      <td>2.0</td>\n",
       "      <td>2021-12-17</td>\n",
       "      <td>221030593</td>\n",
       "      <td>28582295</td>\n",
       "      <td>3980</td>\n",
       "      <td>2022-01-17</td>\n",
       "      <td>2.0</td>\n",
       "      <td>1</td>\n",
       "      <td>C</td>\n",
       "      <td>48.0</td>\n",
       "      <td>31.0</td>\n",
       "    </tr>\n",
       "    <tr>\n",
       "      <th>141111</th>\n",
       "      <td>22950846</td>\n",
       "      <td>2021-06-09</td>\n",
       "      <td>2021-05-04</td>\n",
       "      <td>1773713</td>\n",
       "      <td>4001738508</td>\n",
       "      <td>1850</td>\n",
       "      <td>04253802208</td>\n",
       "      <td>1.0</td>\n",
       "      <td>2021-08-10</td>\n",
       "      <td>22950846</td>\n",
       "      <td>28529945</td>\n",
       "      <td>1850</td>\n",
       "      <td>2021-09-01</td>\n",
       "      <td>1.0</td>\n",
       "      <td>1</td>\n",
       "      <td>C</td>\n",
       "      <td>120.0</td>\n",
       "      <td>22.0</td>\n",
       "    </tr>\n",
       "    <tr>\n",
       "      <th>141112</th>\n",
       "      <td>22907606</td>\n",
       "      <td>2020-12-30</td>\n",
       "      <td>2020-11-20</td>\n",
       "      <td>1777303</td>\n",
       "      <td>4001685506</td>\n",
       "      <td>70</td>\n",
       "      <td>04253802208</td>\n",
       "      <td>2.0</td>\n",
       "      <td>2020-11-20</td>\n",
       "      <td>22907606</td>\n",
       "      <td>28435840</td>\n",
       "      <td>70</td>\n",
       "      <td>2020-12-11</td>\n",
       "      <td>2.0</td>\n",
       "      <td>1</td>\n",
       "      <td>C</td>\n",
       "      <td>21.0</td>\n",
       "      <td>21.0</td>\n",
       "    </tr>\n",
       "    <tr>\n",
       "      <th>141113</th>\n",
       "      <td>22913848</td>\n",
       "      <td>2021-02-11</td>\n",
       "      <td>2020-12-15</td>\n",
       "      <td>1798566</td>\n",
       "      <td>4001689503</td>\n",
       "      <td>100</td>\n",
       "      <td>04253802208</td>\n",
       "      <td>2.0</td>\n",
       "      <td>2020-12-15</td>\n",
       "      <td>22913848</td>\n",
       "      <td>28441433</td>\n",
       "      <td>100</td>\n",
       "      <td>2020-12-18</td>\n",
       "      <td>2.0</td>\n",
       "      <td>1</td>\n",
       "      <td>C</td>\n",
       "      <td>3.0</td>\n",
       "      <td>3.0</td>\n",
       "    </tr>\n",
       "    <tr>\n",
       "      <th>141114</th>\n",
       "      <td>221006118</td>\n",
       "      <td>2021-10-05</td>\n",
       "      <td>2021-08-30</td>\n",
       "      <td>1794052</td>\n",
       "      <td>3416-MR21</td>\n",
       "      <td>20</td>\n",
       "      <td>00000157259</td>\n",
       "      <td>25.0</td>\n",
       "      <td>2021-09-20</td>\n",
       "      <td>221006118</td>\n",
       "      <td>28545713</td>\n",
       "      <td>20</td>\n",
       "      <td>2021-09-08</td>\n",
       "      <td>25.0</td>\n",
       "      <td>13</td>\n",
       "      <td>C</td>\n",
       "      <td>9.0</td>\n",
       "      <td>-12.0</td>\n",
       "    </tr>\n",
       "  </tbody>\n",
       "</table>\n",
       "<p>141115 rows × 18 columns</p>\n",
       "</div>"
      ],
      "text/plain": [
       "        Sales Doc. CRD header Created on  Customer Purchase order no.  Item  \\\n",
       "0         22870642 2020-07-02 2020-06-30   1760089         9000133725    10   \n",
       "1         22864957 2020-07-13 2020-06-05   1761695              10408    10   \n",
       "2         22862781 2020-06-30 2020-05-27   1761265           wqf38497    50   \n",
       "3         22848805 2020-06-01 2020-03-27   1769212            5290-MD  1490   \n",
       "4         22879606 2020-09-09 2020-08-04   1753005         4501709695    10   \n",
       "...            ...        ...        ...       ...                ...   ...   \n",
       "141110   221030593 2022-01-24 2021-11-30   1803257             759278  3980   \n",
       "141111    22950846 2021-06-09 2021-05-04   1773713         4001738508  1850   \n",
       "141112    22907606 2020-12-30 2020-11-20   1777303         4001685506    70   \n",
       "141113    22913848 2021-02-11 2020-12-15   1798566         4001689503   100   \n",
       "141114   221006118 2021-10-05 2021-08-30   1794052          3416-MR21    20   \n",
       "\n",
       "           Material  Order Quantity  Prom.Date   Ref.doc.  Delivery  RefItm  \\\n",
       "0       00000084391            35.0 2020-06-30   22870642  28376906      10   \n",
       "1       00000084391             3.0 2020-06-05   22864957  28368273      10   \n",
       "2       00000084391             2.0 2020-05-27   22862781  28364930      50   \n",
       "3       00000084391             1.0 2020-03-27   22848805  28364289    1490   \n",
       "4       00000084391             1.0 2020-08-04   22879606  28389506      10   \n",
       "...             ...             ...        ...        ...       ...     ...   \n",
       "141110  04253802208             2.0 2021-12-17  221030593  28582295    3980   \n",
       "141111  04253802208             1.0 2021-08-10   22950846  28529945    1850   \n",
       "141112  04253802208             2.0 2020-11-20   22907606  28435840      70   \n",
       "141113  04253802208             2.0 2020-12-15   22913848  28441433     100   \n",
       "141114  00000157259            25.0 2021-09-20  221006118  28545713      20   \n",
       "\n",
       "       Ac.GI date  Delivery quantity  Safety Stock ABC  days_between  \\\n",
       "0      2020-07-01               35.0            33   B           1.0   \n",
       "1      2020-06-08                3.0            33   B           3.0   \n",
       "2      2020-05-28                2.0            33   B           1.0   \n",
       "3      2020-05-29                1.0            33   B          63.0   \n",
       "4      2020-08-12                1.0            33   B           8.0   \n",
       "...           ...                ...           ...  ..           ...   \n",
       "141110 2022-01-17                2.0             1   C          48.0   \n",
       "141111 2021-09-01                1.0             1   C         120.0   \n",
       "141112 2020-12-11                2.0             1   C          21.0   \n",
       "141113 2020-12-18                2.0             1   C           3.0   \n",
       "141114 2021-09-08               25.0            13   C           9.0   \n",
       "\n",
       "        days_bw_prom_ac  \n",
       "0                   1.0  \n",
       "1                   3.0  \n",
       "2                   1.0  \n",
       "3                  63.0  \n",
       "4                   8.0  \n",
       "...                 ...  \n",
       "141110             31.0  \n",
       "141111             22.0  \n",
       "141112             21.0  \n",
       "141113              3.0  \n",
       "141114            -12.0  \n",
       "\n",
       "[141115 rows x 18 columns]"
      ]
     },
     "execution_count": 28,
     "metadata": {},
     "output_type": "execute_result"
    }
   ],
   "source": [
    "sales_and_deliveries\n",
    "# promise date may not be reliable enough to use as a feature"
   ]
  },
  {
   "cell_type": "code",
   "execution_count": 59,
   "metadata": {},
   "outputs": [],
   "source": [
    "g=sales_and_deliveries.groupby(['Created on','ABC']).agg({'Sales Doc.':'nunique'}).reset_index()"
   ]
  },
  {
   "cell_type": "code",
   "execution_count": 66,
   "metadata": {},
   "outputs": [],
   "source": [
    "g['month'] = g['Created on'].dt.month\n",
    "g['year'] = g['Created on'].dt.year"
   ]
  },
  {
   "cell_type": "code",
   "execution_count": 44,
   "metadata": {},
   "outputs": [],
   "source": [
    "g['Created on'] = g['Created on'].dt.strftime('%Y-%m')"
   ]
  },
  {
   "cell_type": "code",
   "execution_count": 48,
   "metadata": {},
   "outputs": [],
   "source": [
    "f=g.groupby(['Created on', 'ABC']).agg({'Sales Doc.':'sum'}).reset_index()"
   ]
  },
  {
   "cell_type": "code",
   "execution_count": 51,
   "metadata": {},
   "outputs": [],
   "source": [
    "import matplotlib.ticker as ticker"
   ]
  },
  {
   "cell_type": "code",
   "execution_count": 57,
   "metadata": {},
   "outputs": [
    {
     "data": {
      "image/png": "[encoded data removed]",
      "text/plain": [
       "<Figure size 720x576 with 1 Axes>"
      ]
     },
     "metadata": {
      "needs_background": "light"
     },
     "output_type": "display_data"
    }
   ],
   "source": [
    "plt.subplots(figsize=(10,8))\n",
    "plot_=sns.lineplot(x='Created on', y='Sales Doc.', data=f, hue='ABC')\n",
    "plot_.xaxis.set_major_locator(ticker.LinearLocator(10))"
   ]
  },
  {
   "cell_type": "code",
   "execution_count": 67,
   "metadata": {},
   "outputs": [],
   "source": [
    "h = g.groupby(['year','month', 'ABC']).agg({'Sales Doc.':'sum'}).reset_index()"
   ]
  },
  {
   "cell_type": "code",
   "execution_count": 69,
   "metadata": {},
   "outputs": [
    {
     "data": {
      "text/plain": [
       "<AxesSubplot:xlabel='month', ylabel='Sales Doc.'>"
      ]
     },
     "execution_count": 69,
     "metadata": {},
     "output_type": "execute_result"
    },
    {
     "data": {
      "image/png": "[encoded data removed]",
      "text/plain": [
       "<Figure size 720x576 with 1 Axes>"
      ]
     },
     "metadata": {
      "needs_background": "light"
     },
     "output_type": "display_data"
    }
   ],
   "source": [
    "plt.subplots(figsize=(10,8))\n",
    "sns.lineplot(x='month', y='Sales Doc.', data=h, hue='year', ci=None)\n",
    "#plot_.xaxis.set_major_locator(ticker.LinearLocator(10))"
   ]
  },
  {
   "cell_type": "code",
   "execution_count": null,
   "metadata": {},
   "outputs": [],
   "source": []
  }
 ],
 "metadata": {
  "kernelspec": {
   "display_name": "Python 3 (ipykernel)",
   "language": "python",
   "name": "python3"
  },
  "language_info": {
   "codemirror_mode": {
    "name": "ipython",
    "version": 3
   },
   "file_extension": ".py",
   "mimetype": "text/x-python",
   "name": "python",
   "nbconvert_exporter": "python",
   "pygments_lexer": "ipython3",
   "version": "3.9.12"
  },
  "orig_nbformat": 4
 },
 "nbformat": 4,
 "nbformat_minor": 2
}
